{
 "cells": [
  {
   "cell_type": "code",
   "execution_count": null,
   "id": "4e57db4f",
   "metadata": {},
   "outputs": [
    {
     "ename": "",
     "evalue": "",
     "output_type": "error",
     "traceback": [
      "\u001b[1;31mRunning cells with 'Python 3.9.11 64-bit ('theiasfm')' requires ipykernel package.\n",
      "Run the following command to install 'ipykernel' into the Python environment. \n",
      "Command: '/Users/fang-linhe/.pyenv/versions/3.9.11/envs/theiasfm/bin/python -m pip install ipykernel -U --force-reinstall'"
     ]
    }
   ],
   "source": [
    "!pip install flickrapi"
   ]
  },
  {
   "cell_type": "code",
   "execution_count": 1,
   "id": "0b1bfbf0-4a7d-47c9-8df1-98caec6525a1",
   "metadata": {},
   "outputs": [],
   "source": [
    "import json\n",
    "import os\n",
    "import requests\n",
    "\n",
    "import flickrapi"
   ]
  },
  {
   "cell_type": "code",
   "execution_count": 2,
   "id": "7d063e8d-d2d9-41a5-a7ac-082ed2d4f63c",
   "metadata": {},
   "outputs": [],
   "source": [
    "api_key = os.environ['FLICKR_KEY']\n",
    "api_secret = os.environ['FLICKR_SECRET']\n",
    "download_size = 'url_l'  # 1024x768\n",
    "\n",
    "flickr = flickrapi.FlickrAPI(api_key, api_secret, format='etree', cache=True)"
   ]
  },
  {
   "cell_type": "code",
   "execution_count": 16,
   "id": "ce4a0619-0b81-4674-b52c-331451bbb26a",
   "metadata": {},
   "outputs": [],
   "source": [
    "keyword = 'Grossmünster'\n",
    "\n",
    "photos = flickr.walk(text=keyword,\n",
    "                     extras=download_size,\n",
    "                     privacy_filter=1,  # search only for public photos\n",
    "                     per_page=50,\n",
    "                     sort='relevance')"
   ]
  },
  {
   "cell_type": "code",
   "execution_count": 20,
   "id": "a891e105-7032-4f09-91ed-7cd7e3a1a7e6",
   "metadata": {
    "tags": []
   },
   "outputs": [],
   "source": [
    "max_urls = 1000\n",
    "counter = 0\n",
    "\n",
    "urls = []\n",
    "for photo in photos:\n",
    "    if counter < max_urls:\n",
    "        url = photo.get(download_size)\n",
    "        if url:\n",
    "            urls.append(url)\n",
    "            counter += 1\n",
    "    else:\n",
    "        break"
   ]
  },
  {
   "cell_type": "code",
   "execution_count": 21,
   "id": "f36d0ad7-248f-4e70-bc3a-f1d50290bfde",
   "metadata": {},
   "outputs": [],
   "source": [
    "def create_folder(path):\n",
    "    if not os.path.isdir(path):\n",
    "        os.makedirs(path)\n",
    "\n",
    "def download_images(urls, path):\n",
    "    create_folder(path)  # makes sure path exists\n",
    "\n",
    "    for url in urls:\n",
    "        image_name = url.split(\"/\")[-1]\n",
    "        image_path = os.path.join(path, image_name)\n",
    "\n",
    "        if not os.path.isfile(image_path):  # ignore if already downloaded\n",
    "            response=requests.get(url,stream=True)\n",
    "\n",
    "            with open(image_path,'wb') as outfile:\n",
    "                outfile.write(response.content)"
   ]
  },
  {
   "cell_type": "code",
   "execution_count": 22,
   "id": "2661e7b6-0ed0-4981-a083-d06a363bc609",
   "metadata": {},
   "outputs": [],
   "source": [
    "download_images(urls, '/Users/fang-linhe/Documents/fl/ETH/3DVision/Project/Data/Grossmünster')"
   ]
  },
  {
   "cell_type": "code",
   "execution_count": null,
   "id": "c67507be-6640-4c0f-bfbd-28a6df25d2da",
   "metadata": {},
   "outputs": [],
   "source": []
  }
 ],
 "metadata": {
  "interpreter": {
   "hash": "608e6994dc0e1cd3c8758f223c1759df00971f10c6ac0a5ef1bd77354b3d304a"
  },
  "kernelspec": {
   "display_name": "Python 3.9.11 64-bit ('theiasfm')",
   "language": "python",
   "name": "python3"
  },
  "language_info": {
   "codemirror_mode": {
    "name": "ipython",
    "version": 3
   },
   "file_extension": ".py",
   "mimetype": "text/x-python",
   "name": "python",
   "nbconvert_exporter": "python",
   "pygments_lexer": "ipython3",
   "version": "3.9.11"
  }
 },
 "nbformat": 4,
 "nbformat_minor": 5
}
